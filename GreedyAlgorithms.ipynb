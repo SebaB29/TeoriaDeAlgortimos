{
 "cells": [
  {
   "cell_type": "markdown",
   "metadata": {},
   "source": [
    "# Scheduling de Charlas"
   ]
  },
  {
   "cell_type": "markdown",
   "metadata": {},
   "source": [
    "Dada un aula/sala donde se pueden dar charlas. Las charlas tienen horario de inicio y fin. Implementar un algoritmo Greedy que reciba el arreglo de los horarios de las charlas, representando en tuplas los horarios de inicios de las charlas, y sus horarios de fin, e indique cuáles son las charlas a dar para maximizar la cantidad total de charlas. Indicar y justificar la complejidad del algoritmo implementado.\n",
    "\n",
    "Nota sobre RPL: en este ejercicio se pide cumplir la tarea \"con un algoritmo Greedy\". Por las características de la herramienta, no podemos verificarlo de forma automática, pero se busca que se implemente con dicha restricción"
   ]
  },
  {
   "cell_type": "code",
   "execution_count": 1,
   "metadata": {},
   "outputs": [],
   "source": [
    "def charlas(horarios):\n",
    "    horarios_ordenados = sorted(horarios, key=lambda x: x[1]) # O(n log n)\n",
    "    scheduling_final = [] # O(1)\n",
    "    inicio = 0 # O(1)\n",
    "    fin = 1 # O(1)\n",
    "    ultima_charla = -1 # O(1)\n",
    "    for charla in horarios_ordenados: # O(n)\n",
    "        if not scheduling_final or scheduling_final[ultima_charla][fin] < charla[inicio]: # O(1)\n",
    "            scheduling_final.append(charla) # O(1)\n",
    "\n",
    "    return scheduling_final # O(1)"
   ]
  },
  {
   "cell_type": "markdown",
   "metadata": {},
   "source": [
    "Complejidad: O(n log n)\n",
    "\n",
    "La parte más costosa del algoritmo es la función sorted, la cual tiene complejidad O(n log n), como el resto es menos costoso ya que tienen complejidad O(n) (en el caso de la iteración) y O(1) el resto (asignación de variables y comparaciones), se puede acotar por O(n log n)"
   ]
  },
  {
   "cell_type": "markdown",
   "metadata": {},
   "source": [
    "# Problema del Cambio"
   ]
  },
  {
   "cell_type": "markdown",
   "metadata": {},
   "source": [
    "Se tiene un sistema monetario (ejemplo, el nuestro). Se quiere dar \"cambio\" de una determinada cantidad de plata. Implementar un algoritmo Greedy que devuelva el cambio pedido, usando la mínima cantidad de monedas/billetes. El algoritmo recibirá un arreglo de valores del sistema monetario, y la cantidad de cambio objetivo a dar, y debe devolver qué monedas/billetes deben ser utilizados para minimizar la cantidad total utilizada. Indicar y justificar la complejidad del algoritmo implementado. ¿El algoritmo implementado encuentra siempre la solución óptima? Justificar si es óptimo, o dar un contraejemplo. ¿Por qué se trata de un algoritmo Greedy? Justificar\n",
    "\n",
    "Nota sobre RPL: en este ejercicio se pide cumplir la tarea \"con un algoritmo Greedy\". Por las características de la herramienta, no podemos verificarlo de forma automática, pero se busca que se implemente con dicha restricción"
   ]
  },
  {
   "cell_type": "code",
   "execution_count": 1,
   "metadata": {},
   "outputs": [],
   "source": [
    "def cambio(monedas, monto):\n",
    "    monedas_ordenadas =  sorted(monedas, reverse=True) # O(n log n)\n",
    "    cambio_final = [] # O(1)\n",
    "    monto_del_cambio = 0 # O(1)\n",
    "    moneda_actual = 0 # O(1)\n",
    "    while monto_del_cambio < monto:\n",
    "        if (monedas_ordenadas[moneda_actual] + monto_del_cambio) <= monto: # O(1)\n",
    "            monto_del_cambio += monedas_ordenadas[moneda_actual] # O(1)\n",
    "            cambio_final.append(monedas_ordenadas[moneda_actual]) # O(1)\n",
    "        else: # O(1)\n",
    "            moneda_actual += 1 # O(1)\n",
    "\n",
    "    return cambio_final # O(1)"
   ]
  },
  {
   "cell_type": "markdown",
   "metadata": {},
   "source": [
    "Este algoritmo se considera Greedy, ya que en cada paso decide que es lo que le conviene (si utilizar la moneda o avanzar) simplemente viendo si la moneda le sirve o no y sin considerar que valores pueden venir después.\n",
    "\n",
    "No siempre consigue la solución óptima, ya que si por ejemplo tengo:\n",
    "\n",
    "monedas = [1,3,4] \\\n",
    "cambio = 6\n",
    "\n",
    "La solución óptima sería: [3, 3] \\\n",
    "Pero con este algoritmo se devolvería: [4, 1, 1]"
   ]
  }
 ],
 "metadata": {
  "kernelspec": {
   "display_name": "Python 3",
   "language": "python",
   "name": "python3"
  },
  "language_info": {
   "codemirror_mode": {
    "name": "ipython",
    "version": 3
   },
   "file_extension": ".py",
   "mimetype": "text/x-python",
   "name": "python",
   "nbconvert_exporter": "python",
   "pygments_lexer": "ipython3",
   "version": "3.11.9"
  }
 },
 "nbformat": 4,
 "nbformat_minor": 2
}
