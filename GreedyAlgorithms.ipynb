{
 "cells": [
  {
   "cell_type": "markdown",
   "metadata": {},
   "source": [
    "# Scheduling de Charlas"
   ]
  },
  {
   "cell_type": "markdown",
   "metadata": {},
   "source": [
    "Dada un aula/sala donde se pueden dar charlas. Las charlas tienen horario de inicio y fin. Implementar un algoritmo Greedy que reciba el arreglo de los horarios de las charlas, representando en tuplas los horarios de inicios de las charlas, y sus horarios de fin, e indique cuáles son las charlas a dar para maximizar la cantidad total de charlas. Indicar y justificar la complejidad del algoritmo implementado.\n",
    "\n",
    "Nota sobre RPL: en este ejercicio se pide cumplir la tarea \"con un algoritmo Greedy\". Por las características de la herramienta, no podemos verificarlo de forma automática, pero se busca que se implemente con dicha restricción"
   ]
  },
  {
   "cell_type": "code",
   "execution_count": 1,
   "metadata": {},
   "outputs": [],
   "source": [
    "def charlas(horarios):\n",
    "    horarios_ordenados = sorted(horarios, key=lambda x: x[1]) # O(n log n)\n",
    "    scheduling_final = [] # O(1)\n",
    "    inicio = 0 # O(1)\n",
    "    fin = 1 # O(1)\n",
    "    ultima_charla = -1 # O(1)\n",
    "    for charla in horarios_ordenados: # O(n)\n",
    "        if not scheduling_final or scheduling_final[ultima_charla][fin] < charla[inicio]: # O(1)\n",
    "            scheduling_final.append(charla) # O(1)\n",
    "\n",
    "    return scheduling_final # O(1)"
   ]
  },
  {
   "cell_type": "markdown",
   "metadata": {},
   "source": [
    "Complejidad: O(n log n)\n",
    "\n",
    "La parte más costosa del algoritmo es la función sorted, la cual tiene complejidad O(n log n), como el resto es menos costoso ya que tienen complejidad O(n) (en el caso de la iteración) y O(1) el resto (asignación de variables y comparaciones), se puede acotar por O(n log n)"
   ]
  },
  {
   "cell_type": "markdown",
   "metadata": {},
   "source": [
    "# Problema del Cambio"
   ]
  },
  {
   "cell_type": "markdown",
   "metadata": {},
   "source": [
    "Se tiene un sistema monetario (ejemplo, el nuestro). Se quiere dar \"cambio\" de una determinada cantidad de plata. Implementar un algoritmo Greedy que devuelva el cambio pedido, usando la mínima cantidad de monedas/billetes. El algoritmo recibirá un arreglo de valores del sistema monetario, y la cantidad de cambio objetivo a dar, y debe devolver qué monedas/billetes deben ser utilizados para minimizar la cantidad total utilizada. Indicar y justificar la complejidad del algoritmo implementado. ¿El algoritmo implementado encuentra siempre la solución óptima? Justificar si es óptimo, o dar un contraejemplo. ¿Por qué se trata de un algoritmo Greedy? Justificar\n",
    "\n",
    "Nota sobre RPL: en este ejercicio se pide cumplir la tarea \"con un algoritmo Greedy\". Por las características de la herramienta, no podemos verificarlo de forma automática, pero se busca que se implemente con dicha restricción"
   ]
  },
  {
   "cell_type": "code",
   "execution_count": 1,
   "metadata": {},
   "outputs": [],
   "source": [
    "def cambio(monedas, monto):\n",
    "    monedas_ordenadas =  sorted(monedas, reverse=True) # O(n log n)\n",
    "    cambio_final = [] # O(1)\n",
    "    monto_del_cambio = 0 # O(1)\n",
    "    moneda_actual = 0 # O(1)\n",
    "    while monto_del_cambio < monto:\n",
    "        if (monedas_ordenadas[moneda_actual] + monto_del_cambio) <= monto: # O(1)\n",
    "            monto_del_cambio += monedas_ordenadas[moneda_actual] # O(1)\n",
    "            cambio_final.append(monedas_ordenadas[moneda_actual]) # O(1)\n",
    "        else: # O(1)\n",
    "            moneda_actual += 1 # O(1)\n",
    "\n",
    "    return cambio_final # O(1)"
   ]
  },
  {
   "cell_type": "markdown",
   "metadata": {},
   "source": [
    "Este algoritmo se considera Greedy, ya que en cada paso decide que es lo que le conviene (si utilizar la moneda o avanzar) simplemente viendo si la moneda le sirve o no y sin considerar que valores pueden venir después.\n",
    "\n",
    "No siempre consigue la solución óptima, ya que si por ejemplo tengo:\n",
    "\n",
    "monedas = [1,3,4] \\\n",
    "cambio = 6\n",
    "\n",
    "La solución óptima sería: [3, 3] \\\n",
    "Pero con este algoritmo se devolvería: [4, 1, 1]"
   ]
  },
  {
   "cell_type": "markdown",
   "metadata": {},
   "source": [
    "# Inflación"
   ]
  },
  {
   "cell_type": "markdown",
   "metadata": {},
   "source": [
    "Tenemos unos productos dados por un arreglo R, donde R[i] nos dice el precio del producto. Cada día podemos y debemos comprar uno (y sólo uno) de los productos, pero vivimos en una era de inflación y los precios aumentan todo el tiempo. El precio del producto i el día j es R[i]^{j + 1} (j comenzando en 0). Implementar un algoritmo greedy que nos indique el precio mínimo al que podemos comprar todos los productos. Indicar y justificar la complejidad del algoritmo implementado. ¿El algoritmo implementado encuentra siempre la solución óptima? Justificar. ¿Por qué se trata de un algoritmo Greedy? Justificar\n",
    "\n",
    "Nota sobre RPL: en este ejercicio se pide cumplir la tarea \"con un algoritmo Greedy\". Por las características de la herramienta, no podemos verificarlo de forma automática, pero se busca que se implemente con dicha restricción"
   ]
  },
  {
   "cell_type": "code",
   "execution_count": 2,
   "metadata": {},
   "outputs": [],
   "source": [
    "def precios_inflacion(R):\n",
    "    precios_ordenados = sorted(R, reverse=True) # O(R log R)\n",
    "    precio_final = 0 # O(1)\n",
    "    for i, precio in enumerate(precios_ordenados): # O(R)\n",
    "        precio_final += precio**(i+1) # O(1)\n",
    "\n",
    "    return precio_final # O(1)"
   ]
  },
  {
   "cell_type": "markdown",
   "metadata": {},
   "source": [
    "El algoritmo se considera Greedy, ya que en cada paso decide comprar el producto actual, independientemente de que productos vengan después, siendo el actual el más óptimo ya que se ordeno el arreglo para que así lo sea.\n",
    "\n",
    "Siempre encuentra la solución óptima, ya que se busca comprar primero los productos más caros, los cuales son los que más afectados se verían por la inflación con el paso de los días."
   ]
  },
  {
   "cell_type": "markdown",
   "metadata": {},
   "source": [
    "# Deflación"
   ]
  },
  {
   "cell_type": "markdown",
   "metadata": {},
   "source": [
    "\n",
    "En Wakanda, tenemos unos productos dados por un arreglo R, donde R[i] nos dice el precio del producto. Cada día podemos y debemos comprar uno (y sólo uno) de los productos, pero Wakanda está atravesando una era de deflación y los precios disminuyen todo el tiempo. El precio del producto i el día j+1 es exactamente la mitad del precio en el día j. El arreglo R[i] indica todos los precios del primer día. Si bien para reducir costos se debería esperar a que los productos sigan bajando, los tiempos de entrega no nos permiten esperar, y cada día debemos comprar uno de los productos.\n",
    "Implementar un algoritmo greedy que nos indique el precio mínimo al que podemos comprar todos los productos. Indicar y justificar la complejidad del algoritmo implementado. ¿El algoritmo implementado encuentra siempre la solución óptima? Justificar. ¿Por qué se trata de un algoritmo Greedy? Justificar\n",
    "\n",
    "Nota sobre RPL: en este ejercicio se pide cumplir la tarea \"con un algoritmo Greedy\". Por las características de la herramienta, no podemos verificarlo de forma automática, pero se busca que se implemente con dicha restricción"
   ]
  },
  {
   "cell_type": "code",
   "execution_count": 3,
   "metadata": {},
   "outputs": [],
   "source": [
    "def precios_deflacion(R):\n",
    "    precios_ordenados = sorted(R) # O(R log R)\n",
    "    precio_final = 0 # O(1)\n",
    "    for i, precio in enumerate(precios_ordenados): # O(R)\n",
    "        precio_final += precio / (2**i) # O(1)\n",
    "\n",
    "    return precio_final # O(1)"
   ]
  },
  {
   "cell_type": "markdown",
   "metadata": {},
   "source": [
    "Complejidad: O(R log R)\n",
    "\n",
    "La parte más costosa del algoritmo es la función sorted, la cual tiene complejidad O(R log R), como el resto es menos costoso ya que tienen complejidad O(R) (en el caso de la iteración) y O(1) el resto (asignación de variables y operaciones), se puede acotar por O(R log R)\n",
    "\n",
    "El algoritmo se considera Greedy, ya que en cada paso decide comprar el producto actual, independientemente de que productos vengan después, siendo el actual el más óptimo ya que se ordeno el arreglo para que así lo sea.\n",
    "\n",
    "Siempre encuentra la solución óptima, ya que se busca comprar primero los productos más baratos, dando tiempo a que los productos más caros reduzcan su precio con el paso de los días."
   ]
  }
 ],
 "metadata": {
  "kernelspec": {
   "display_name": "Python 3",
   "language": "python",
   "name": "python3"
  },
  "language_info": {
   "codemirror_mode": {
    "name": "ipython",
    "version": 3
   },
   "file_extension": ".py",
   "mimetype": "text/x-python",
   "name": "python",
   "nbconvert_exporter": "python",
   "pygments_lexer": "ipython3",
   "version": "3.11.9"
  }
 },
 "nbformat": 4,
 "nbformat_minor": 2
}
