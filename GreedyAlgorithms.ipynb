{
 "cells": [
  {
   "cell_type": "markdown",
   "metadata": {},
   "source": [
    "# Scheduling de Charlas"
   ]
  },
  {
   "cell_type": "markdown",
   "metadata": {},
   "source": [
    "Dada un aula/sala donde se pueden dar charlas. Las charlas tienen horario de inicio y fin. Implementar un algoritmo Greedy que reciba el arreglo de los horarios de las charlas, representando en tuplas los horarios de inicios de las charlas, y sus horarios de fin, e indique cuáles son las charlas a dar para maximizar la cantidad total de charlas. Indicar y justificar la complejidad del algoritmo implementado.\n",
    "\n",
    "Nota sobre RPL: en este ejercicio se pide cumplir la tarea \"con un algoritmo Greedy\". Por las características de la herramienta, no podemos verificarlo de forma automática, pero se busca que se implemente con dicha restricción"
   ]
  },
  {
   "cell_type": "code",
   "execution_count": 1,
   "metadata": {},
   "outputs": [],
   "source": [
    "def charlas(horarios):\n",
    "    horarios_ordenados = sorted(horarios, key=lambda x: x[1]) # O(n log n)\n",
    "    scheduling_final = [] # O(1)\n",
    "    inicio = 0 # O(1)\n",
    "    fin = 1 # O(1)\n",
    "    ultima_charla = -1 # O(1)\n",
    "    for charla in horarios_ordenados: # O(n)\n",
    "        if not scheduling_final or scheduling_final[ultima_charla][fin] < charla[inicio]: # O(1)\n",
    "            scheduling_final.append(charla) # O(1)\n",
    "\n",
    "    return scheduling_final # O(1)"
   ]
  },
  {
   "cell_type": "markdown",
   "metadata": {},
   "source": [
    "Complejidad: O(n log n)\n",
    "\n",
    "La parte más costosa del algoritmo es la función sorted, la cual tiene complejidad O(n log n), como el resto es menos costoso ya que tienen complejidad O(n) (en el caso de la iteración) y O(1) el resto (asignación de variables y comparaciones), se puede acotar por O(n log n)"
   ]
  }
 ],
 "metadata": {
  "kernelspec": {
   "display_name": "Python 3",
   "language": "python",
   "name": "python3"
  },
  "language_info": {
   "codemirror_mode": {
    "name": "ipython",
    "version": 3
   },
   "file_extension": ".py",
   "mimetype": "text/x-python",
   "name": "python",
   "nbconvert_exporter": "python",
   "pygments_lexer": "ipython3",
   "version": "3.11.9"
  }
 },
 "nbformat": 4,
 "nbformat_minor": 2
}
