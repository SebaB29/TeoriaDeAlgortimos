{
 "cells": [
  {
   "cell_type": "markdown",
   "metadata": {},
   "source": [
    "# Vertex Cover"
   ]
  },
  {
   "cell_type": "markdown",
   "metadata": {},
   "source": [
    "<p align=\"justify\">\n",
    "Un Vertex Cover de un Grafo G es un conjunto de vértices del grafo en el cual todas las aristas del grafo tienen al menos uno de sus extremos en dicho conjunto. Por ejemplo, el conjunto de todos los vértices del grafo siempre será un Vertex Cover.<br>\n",
    "Implementar un modelo de programación lineal que dado un Grafo no dirigido nos devuelva un conjunto de vértices que representen un mínimo Vertex Cover del mismo.<br>\n",
    "\n",
    "Métodos del grafo:\n",
    "<ul>\n",
    "<li>Grafo(dirigido = False, vertices_init = []) para crear (hacer 'from grafo import Grafo')</li>\n",
    "<li>agregar_vertice(self, v)</li>\n",
    "<li>borrar_vertice(self, v)</li>\n",
    "<li>agregar_arista(self, v, w, peso = 1)(el resultado será v <--> w)</li>\n",
    "<li>borrar_arista(self, v, w)</li>\n",
    "<li>estan_unidos(self, v, w)</li>\n",
    "<li>peso_arista(self, v, w)</li>\n",
    "<li>obtener_vertices(self) (Devuelve una lista con todos los vértices del grafo)</li>\n",
    "<li>vertice_aleatorio(self)</li>\n",
    "<li>adyacentes(self, v)</li>\n",
    "<li>str</li>\n",
    "</ul>\n",
    "</p>"
   ]
  },
  {
   "cell_type": "code",
   "execution_count": null,
   "metadata": {},
   "outputs": [],
   "source": [
    "import pulp\n",
    "\n",
    "def vertex_cover_min(grafo):\n",
    "    problema = pulp.LpProblem(\"Minimum_Vertex_Cover\", pulp.LpMinimize)\n",
    "\n",
    "    vertices = grafo.obtener_vertices()\n",
    "    x = {v: pulp.LpVariable(f\"x_{v}\", cat='Binary') for v in vertices}\n",
    "\n",
    "    problema += pulp.lpSum(x[v] for v in vertices), \"Minimizar_Numero_Vertices\"\n",
    "\n",
    "    for v in vertices:\n",
    "        for w in grafo.adyacentes(v):\n",
    "            if v < w:\n",
    "                problema += x[v] + x[w] >= 1, f\"Cover_{v}_{w}\"\n",
    "\n",
    "    problema.solve()\n",
    "    vertex_cover = [v for v in vertices if pulp.value(x[v]) == 1]\n",
    "    \n",
    "    return vertex_cover"
   ]
  }
 ],
 "metadata": {
  "language_info": {
   "name": "python"
  }
 },
 "nbformat": 4,
 "nbformat_minor": 2
}
