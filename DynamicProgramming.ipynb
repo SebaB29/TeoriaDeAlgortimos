{
 "cells": [
  {
   "cell_type": "markdown",
   "metadata": {},
   "source": [
    "# Fibonacci"
   ]
  },
  {
   "cell_type": "markdown",
   "metadata": {},
   "source": [
    "<p algin=\"justify\">\n",
    "Implementar un algoritmo que, utilizando programación dinámica, obtenga el valor del n-ésimo número de fibonacci. Indicar y justificar la complejidad del algoritmo implementado.\n",
    "\n",
    "Definición:\n",
    "\n",
    "n = 0 --> Debe devolver 1\\\n",
    "n = 1 --> Debe devolver 1\\\n",
    "n --> Debe devolver la suma entre los dos anteriores números de fibonacci (los fibonacci n-2 y n-1)\n",
    "\n",
    "Nota sobre RPL: en este ejercicio se pide cumplir la tarea \"utilizando programación dinámica\". Por las características de la herramienta, no podemos verificarlo de forma automática, pero se busca que se implemente con dicha restricción\n",
    "</p>"
   ]
  },
  {
   "cell_type": "code",
   "execution_count": null,
   "metadata": {},
   "outputs": [],
   "source": [
    "def fibonacci(n):\n",
    "    memo = {} # O(1)\n",
    "    return _fibonacci(n, memo) # O(n)\n",
    "\n",
    "def _fibonacci(n, memo):\n",
    "    if n in memo: # O(1)\n",
    "        return memo[n] # O(1)\n",
    "    if n <= 1: # O(1)\n",
    "        return 1 # O(1)\n",
    "    \n",
    "    memo[n] = _fibonacci(n - 1, memo) + _fibonacci(n - 2, memo) # O(n)\n",
    "    return memo[n] # O(1)"
   ]
  },
  {
   "cell_type": "markdown",
   "metadata": {},
   "source": [
    "Complejidad: $O(n)$"
   ]
  },
  {
   "cell_type": "markdown",
   "metadata": {},
   "source": [
    "# Operaciones Hacia K"
   ]
  },
  {
   "cell_type": "markdown",
   "metadata": {},
   "source": [
    "<p align=\"\"justify>\n",
    "Dado un número K, se quiere obtener la mínima cantidad de operaciones para llegar desde 0 a K, siendo que las operaciones posibles son:\n",
    "\n",
    "(i) aumentar el valor del operando en 1;\n",
    "\n",
    "(ii) duplicar el valor del operando.\n",
    "\n",
    "Implementar un algoritmo que, por programación dinámica obtenga la menor cantidad de operaciones a realizar (y cuáles son dichas operaciones). Desarrollar la ecuación de recurrencia. Indicar y justificar la complejidad del algoritmo implementado. Aclaración: asegurarse de que el algoritmo presentado sea de programación dinámica, con su correspondiente ecuación de recurrencia.\n",
    "\n",
    "Devolver un arreglo de las operaciones a realizar en orden. En texto cada opción es 'mas1' o 'por2'\n",
    "\n",
    "Nota sobre RPL: en este ejercicio se pide cumplir la tarea \"por programación dinámica\". Por las características de la herramienta, no podemos verificarlo de forma automática, pero se busca que se implemente con dicha restricción\n",
    "</p>"
   ]
  },
  {
   "cell_type": "code",
   "execution_count": null,
   "metadata": {},
   "outputs": [],
   "source": [
    "def operaciones(k):\n",
    "    if k == 0:\n",
    "        return []\n",
    "\n",
    "    dp = [float('inf')] * (k + 1)\n",
    "    operacion = [''] * (k + 1)\n",
    "    dp[0] = 0\n",
    "    \n",
    "    for i in range(1, k + 1):\n",
    "        if dp[i - 1] + 1 < dp[i]:\n",
    "            dp[i] = dp[i - 1] + 1\n",
    "            operacion[i] = 'mas1'\n",
    "    \n",
    "        if i % 2 == 0 and dp[i // 2] + 1 < dp[i]:\n",
    "            dp[i] = dp[i // 2] + 1\n",
    "            operacion[i] = 'por2'\n",
    "\n",
    "    operaciones_realizadas = []\n",
    "    while k > 0:\n",
    "        operaciones_realizadas.append(operacion[k])\n",
    "        if operacion[k] == 'mas1':\n",
    "            k -= 1\n",
    "        elif operacion[k] == 'por2':\n",
    "            k //= 2\n",
    "\n",
    "    operaciones_realizadas.reverse()\n",
    "    return operaciones_realizadas"
   ]
  },
  {
   "cell_type": "markdown",
   "metadata": {},
   "source": [
    "# Bodegón Dinámico"
   ]
  },
  {
   "cell_type": "markdown",
   "metadata": {},
   "source": [
    "<p align=\"justify\">\n",
    "Un bodegón tiene una única mesa larga con W lugares. Hay una persona en la puerta que anota los grupos que quieren sentarse a comer, y la cantidad de integrantes que conforma a cada uno. Para simplificar su trabajo, se los anota en un vector P donde P[i] contiene la cantidad de personas que integran el grupo i, siendo en total n grupos. Como se trata de un restaurante familiar, las personas sólo se sientan en la mesa si todos los integrantes de su grupo pueden sentarse. Implementar un algoritmo que, mediante programación dinámica, obtenga el conjunto de grupos que ocupan la mayor cantidad de espacios en la mesa (o en otras palabras, que dejan la menor cantidad de espacios vacíos). Indicar y justificar la complejidad del algoritmo.\n",
    "\n",
    "Para esta resolución en RPL, devolver una lista con los valores de los grupos a ubicar, en el orden original en el que se encontraban en el vector P.\n",
    "\n",
    "Nota sobre RPL: en este ejercicio se pide cumplir la tarea \"por programación dinámica\". Por las características de la herramienta, no podemos verificarlo de forma automática, pero se busca que se implemente con dicha restricción\n",
    "</p>"
   ]
  },
  {
   "cell_type": "code",
   "execution_count": null,
   "metadata": {},
   "outputs": [],
   "source": [
    "def bodegon_dinamico(P, W):\n",
    "    n = len(P)\n",
    "    dp = [[0] * (W + 1) for _ in range(n + 1)]\n",
    "    decision = [[False] * (W + 1) for _ in range(n + 1)]\n",
    "\n",
    "    for i in range(1, n + 1):\n",
    "        for w in range(W + 1):\n",
    "            dp[i][w] = dp[i-1][w]\n",
    "            if w >= P[i-1]:\n",
    "                if dp[i-1][w - P[i-1]] + P[i-1] > dp[i][w]:\n",
    "                    dp[i][w] = dp[i-1][w - P[i-1]] + P[i-1]\n",
    "                    decision[i][w] = True\n",
    "\n",
    "    grupos_seleccionados = []\n",
    "    w = W\n",
    "    for i in range(n, 0, -1):\n",
    "        if decision[i][w]:\n",
    "            grupos_seleccionados.append(P[i-1])\n",
    "            w -= P[i-1]\n",
    "\n",
    "    grupos_seleccionados.reverse()\n",
    "    return grupos_seleccionados"
   ]
  },
  {
   "cell_type": "markdown",
   "metadata": {},
   "source": [
    "# Lunático el Ladrón"
   ]
  },
  {
   "cell_type": "markdown",
   "metadata": {},
   "source": [
    "<p align=\"justify\">\n",
    "Somos ayudantes del gran ladrón el Lunático, que está pensando en su próximo atraco. Decidió en este caso robar toda una calle en un barrio privado, que tiene la particularidad de ser circular. Gracias a los trabajos de inteligencia realizados, sabemos cuánto se puede obtener por robar en cada casa. Podemos enumerar a la primer casa como la casa 0, de la cual podríamos obtener g0, la casa a su derecha es la 1, que nos daría g1, y así hasta llegar a la casa n-1, que nos daría gn-1. Toda casa se considera adyacente a las casas i-1 e i+1. Además, como la calle es circular, la casas 0 y n-1 también son vecinas. El problema con el que cuenta el Lunático es que sabe de experiencias anteriores que, si roba en una casa, los vecinos directos se enterarían muy rápido. No le daría tiempo a luego intentar robarles a ellos. Es decir, para robar una casa debe prescindir de robarle a sus vecinos directos. El Lunático nos encarga saber cuáles casas debería atracar y cuál sería la ganancia máxima obtenible. Dado que nosotros nos llevamos un porcentaje de dicha ganancia, vamos a buscar el óptimo a este problema. Implementar un algoritmo que, por programación dinámica, obtenga la ganancia óptima, así como cuáles casas habría que robar, a partir de recibir un arreglo de las ganancias obtenibles. Para esto, escribir y describir la ecuación de recurrencia correspondiente. Indicar y justificar la complejidad del algoritmo propuesto.\n",
    "\n",
    "Para esta resolución en RPL, devolver una lista con las posiciones de las casas a robar.\n",
    "\n",
    "Nota sobre RPL: en este ejercicio se pide cumplir la tarea \"utilizando programación dinámica\". Por las características de la herramienta, no podemos verificarlo de forma automática, pero se busca que se implemente con dicha restricción\n",
    "</p>"
   ]
  },
  {
   "cell_type": "code",
   "execution_count": null,
   "metadata": {},
   "outputs": [],
   "source": [
    "def lunatico(ganancias):\n",
    "    if sum(ganancias)==0:\n",
    "        return []\n",
    "    if len(ganancias)==1:\n",
    "        return [0]\n",
    "    ganancias_excluyo_primera=ganancias[1:]\n",
    "    ganancias_excluyo_ultima=ganancias[:-1]\n",
    "\n",
    "    optimo_excluyo_primera=lunatico_no_circular(ganancias_excluyo_primera)\n",
    "    optimo_excluyo_ultima=lunatico_no_circular(ganancias_excluyo_ultima)\n",
    "\n",
    "    optimo_excluyo_primera=[i+1 for i in optimo_excluyo_primera]\n",
    "\n",
    "    ganancias_excluyo_primera=sum(ganancias[i] for i in optimo_excluyo_primera)\n",
    "    ganancias_excluyo_ultima=sum(ganancias[i] for i in optimo_excluyo_ultima)\n",
    "\n",
    "    if ganancias_excluyo_ultima>ganancias_excluyo_primera:\n",
    "        return optimo_excluyo_ultima\n",
    "    return optimo_excluyo_primera\n",
    "\n",
    "def lunatico_no_circular(ganancias):\n",
    "    tam_arreglo=len(ganancias)\n",
    "    if tam_arreglo==0:\n",
    "        return []\n",
    "    if tam_arreglo==1:\n",
    "        return [0]\n",
    "    optimos=[0]*(tam_arreglo+1)\n",
    "    optimos[1]=ganancias[0]\n",
    "    if tam_arreglo>1:\n",
    "        optimos[2]=max(ganancias[0],ganancias[1])\n",
    "    for i in range(3,tam_arreglo+1):\n",
    "        optimos[i]=max(optimos[i-1],optimos[i-2]+ganancias[i-1])\n",
    "    \n",
    "    return getRes(optimos,tam_arreglo,ganancias)\n",
    "\n",
    "\n",
    "def getRes(optimos,tam_arreglo,ganancias):\n",
    "    res=[]\n",
    "    while tam_arreglo>0:\n",
    "        if optimos[tam_arreglo]==optimos[tam_arreglo-1]:\n",
    "            tam_arreglo-=1\n",
    "        else:\n",
    "            res.append(tam_arreglo-1)\n",
    "            tam_arreglo-=2\n",
    "\n",
    "    res.reverse()\n",
    "    return res"
   ]
  },
  {
   "cell_type": "markdown",
   "metadata": {},
   "source": [
    "# El Problema de la Soga"
   ]
  },
  {
   "cell_type": "markdown",
   "metadata": {},
   "source": [
    "<p align=\"justify\">\n",
    "Dada una soga de n metros (n mayor o igual a 2) implementar un algoritmo que, utilizando programación dinámica, permita cortarla (en partes de largo entero) de manera tal que el producto del largo de cada una de las partes resultantes sea máximo. El algoritmo debe devolver el valor del producto máximo alcanzable. Tener en cuenta que la soga puede cortarse varias veces, como se muestra en el ejemplo con n = 10. Indicar y justificar la complejidad del algoritmo. <br><br>\n",
    "\n",
    "Ejemplos:<br><br>\n",
    "\n",
    "n = 2 --> Debe devolver 1 (producto máximo es 1 * 1)<br>\n",
    "n = 3 --> Debe devolver 2 (producto máximo es 2 * 1)<br>\n",
    "n = 4 --> Debe devolver 4 (producto máximo es 2 * 2)<br>\n",
    "n = 5 --> Debe devolver 6 (producto máximo es 2 * 3)<br>\n",
    "n = 6 --> Debe devolver 9 (producto máximo es 3 * 3)<br>\n",
    "n = 7 --> Debe devolver 12 (producto máximo es 3 * 4)<br>\n",
    "n = 10 --> Debe devolver 36 (producto máximo es 3 * 3 * 4)<br><br>\n",
    "\n",
    "Nota sobre RPL: en este ejercicio se pide cumplir la tarea \"utilizando programación dinámica\". Por las características de la herramienta, no podemos verificarlo de forma automática, pero se busca que se implemente con dicha restricción\n",
    "</p>"
   ]
  },
  {
   "cell_type": "code",
   "execution_count": null,
   "metadata": {},
   "outputs": [],
   "source": [
    "def problema_soga(n):\n",
    "    dp = [0] * (n + 1)\n",
    "\n",
    "    for i in range(1, n + 1):\n",
    "        for j in range(i // 2 + 1):\n",
    "            dp[i] = max(dp[i], j * max(dp[i - j], i - j))\n",
    "    \n",
    "    return dp[n]"
   ]
  }
 ],
 "metadata": {
  "language_info": {
   "name": "python"
  }
 },
 "nbformat": 4,
 "nbformat_minor": 2
}
