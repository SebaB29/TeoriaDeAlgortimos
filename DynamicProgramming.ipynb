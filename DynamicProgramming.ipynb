{
 "cells": [
  {
   "cell_type": "markdown",
   "metadata": {},
   "source": [
    "# Fibonacci"
   ]
  },
  {
   "cell_type": "markdown",
   "metadata": {},
   "source": [
    "<p algin=\"justify\">\n",
    "Implementar un algoritmo que, utilizando programación dinámica, obtenga el valor del n-ésimo número de fibonacci. Indicar y justificar la complejidad del algoritmo implementado.\n",
    "\n",
    "Definición:\n",
    "\n",
    "n = 0 --> Debe devolver 1\\\n",
    "n = 1 --> Debe devolver 1\\\n",
    "n --> Debe devolver la suma entre los dos anteriores números de fibonacci (los fibonacci n-2 y n-1)\n",
    "\n",
    "Nota sobre RPL: en este ejercicio se pide cumplir la tarea \"utilizando programación dinámica\". Por las características de la herramienta, no podemos verificarlo de forma automática, pero se busca que se implemente con dicha restricción\n",
    "</p>"
   ]
  },
  {
   "cell_type": "code",
   "execution_count": null,
   "metadata": {},
   "outputs": [],
   "source": [
    "def fibonacci(n):\n",
    "    memo = {} # O(1)\n",
    "    return _fibonacci(n, memo) # O(n)\n",
    "\n",
    "def _fibonacci(n, memo):\n",
    "    if n in memo: # O(1)\n",
    "        return memo[n] # O(1)\n",
    "    if n <= 1: # O(1)\n",
    "        return 1 # O(1)\n",
    "    \n",
    "    memo[n] = _fibonacci(n - 1, memo) + _fibonacci(n - 2, memo) # O(n)\n",
    "    return memo[n] # O(1)"
   ]
  },
  {
   "cell_type": "markdown",
   "metadata": {},
   "source": [
    "Complejidad: $O(n)$"
   ]
  }
 ],
 "metadata": {
  "language_info": {
   "name": "python"
  }
 },
 "nbformat": 4,
 "nbformat_minor": 2
}
