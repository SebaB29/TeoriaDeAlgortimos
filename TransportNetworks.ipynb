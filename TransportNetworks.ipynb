{
 "cells": [
  {
   "cell_type": "markdown",
   "metadata": {},
   "source": [
    "# Seguimiento 1"
   ]
  },
  {
   "cell_type": "markdown",
   "metadata": {},
   "source": [
    "<p align=\"justify\">\n",
    "Hacer un seguimiento de obtener el flujo máximo en la siguiente red de transporte, realizando las modificaciones previas que fueran necesarias. Luego, definir cuáles son los dos conjuntos del corte mínimo en dicha red.\n",
    "\n",
    "Nota sobre RPL: no hay forma de evaluar un seguimiento por esta plataforma, así que se propone rellenar los valores de flujo para las aristas existentes, y dar los dos conjuntos del corte mínimo.\n",
    "</p>\n",
    "\n",
    "[Imagen Enunciado]("https://github.com/SebaB29/TeoriaDeAlgortimos/blob/EjerciciosRPL/img/grafoSeguimiento1.jpg")"
   ]
  },
  {
   "cell_type": "code",
   "execution_count": null,
   "metadata": {},
   "outputs": [],
   "source": [
    "def obtener_flujo():\n",
    "    flujo = {}\n",
    "    vertices = \"super_fuente\", \"S\", \"T\", \"U\", \"V\", \"W\", \"X\", \"Z\"\n",
    "    flujo[(\"super_fuente\", \"S\")] = 7\n",
    "    flujo[(\"super_fuente\", \"X\")] = 2\n",
    "    flujo[(\"S\", \"V\")] = 4\n",
    "    flujo[(\"S\", \"U\")] = 3\n",
    "    flujo[(\"V\", \"T\")] = 3\n",
    "    flujo[(\"V\", \"W\")] = 1\n",
    "    flujo[(\"W\", \"T\")] = 6\n",
    "    flujo[(\"U\", \"W\")] = 4\n",
    "    flujo[(\"X\", \"Z\")] = 2\n",
    "    flujo[(\"Z\", \"W\")] = 1\n",
    "    flujo[(\"Z\", \"U\")] = 1\n",
    "    flujo[(\"U\", \"Z\")] = 0\n",
    "\n",
    "    conjunto_super_fuente = ['super_fuente', 'S', 'U', 'V', 'W', 'X', 'Z']\n",
    "    conjunto_sumidero = ['T']\n",
    "\n",
    "    return flujo, conjunto_super_fuente, conjunto_sumidero"
   ]
  }
 ],
 "metadata": {
  "language_info": {
   "name": "python"
  }
 },
 "nbformat": 4,
 "nbformat_minor": 2
}
