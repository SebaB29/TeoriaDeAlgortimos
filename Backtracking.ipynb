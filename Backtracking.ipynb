{
 "cells": [
  {
   "cell_type": "markdown",
   "metadata": {},
   "source": [
    "# Sudoku"
   ]
  },
  {
   "cell_type": "markdown",
   "metadata": {},
   "source": [
    "<p align=\"justify\">\n",
    "Dada una matriz de 9x9, implementar un algoritmo por backtracking que llene la matriz con números del 1 al 9, dadas las condiciones del Sudoku (si es posible). Las condiciones son:\n",
    "(i) Las celdas están dispuestas en 9 subgrupos de 3x3.\n",
    "(ii) Cada columna y cada fila no puede repetir número.\n",
    "(iii) Cada subgrupo de 3x3 no puede repetir número.\n",
    "\n",
    "Las posiciones de la matriz con valor 0 se espera que se completen, las posiciones con valores entr 1 y 9 no deben modificarse.\n",
    "\n",
    "Nota: el ejercicio puede resolverse sin el uso de Grafos, pero en caso de querer utilizarlo, está disponible como se describe.\n",
    "</p>\n",
    "\n",
    "Métodos del grafo:\n",
    "<ul>\n",
    "<li>Grafo(dirigido = False, vertices_init = []) para crear (hacer 'from grafo import Grafo')</li>\n",
    "<li>agregar_vertice(self, v)</li>\n",
    "<li>borrar_vertice(self, v)</li>\n",
    "<li>agregar_arista(self, v, w, peso = 1)</li>\n",
    "<li>el resultado será v <--> w</li>\n",
    "<li>borrar_arista(self, v, w)</li>\n",
    "<li>estan_unidos(self, v, w)</li>\n",
    "<li>peso_arista(self, v, w)</li>\n",
    "<li>obtener_vertices(self) (Devuelve una lista con todos los vértices del grafo)</li>\n",
    "<li>vertice_aleatorio(self)</li>\n",
    "<li>adyacentes(self, v)</li>\n",
    "<li>str</li>\n",
    "</ul>"
   ]
  },
  {
   "cell_type": "code",
   "execution_count": null,
   "metadata": {},
   "outputs": [],
   "source": [
    "CELDA_VACIA = 0\n",
    "COORD_X = 0\n",
    "COORD_Y = 1\n",
    "\n",
    "def resolver_sudoku(matriz):\n",
    "\n",
    "    celda_actual = obtener_celda_vacia(matriz)\n",
    "    if not celda_actual:\n",
    "        return matriz\n",
    "    \n",
    "    for numero in range(1, 10):\n",
    "        if es_opcion_valida(matriz, celda_actual, numero):\n",
    "            matriz[celda_actual[COORD_Y]][celda_actual[COORD_X]] = numero\n",
    "\n",
    "            if resolver_sudoku(matriz):\n",
    "                return matriz\n",
    "\n",
    "            matriz[celda_actual[COORD_Y]][celda_actual[COORD_X]] = CELDA_VACIA\n",
    "\n",
    "    return False\n",
    "\n",
    "def obtener_celda_vacia(matriz):\n",
    "    for fila in range(9):\n",
    "        for columna in range(9):\n",
    "            if matriz[fila][columna] == CELDA_VACIA:\n",
    "                return (columna, fila)\n",
    "    return None\n",
    "\n",
    "def es_opcion_valida(matriz, celda, numero):\n",
    "    return not repetido_en_fila(matriz, celda, numero) and not repetido_en_columna(matriz, celda, numero) and not repetido_en_cuadro(matriz, celda, numero)\n",
    "\n",
    "def repetido_en_fila(matriz, celda, numero):\n",
    "    return numero in matriz[celda[COORD_Y]]\n",
    "\n",
    "def repetido_en_columna(matriz, celda, numero):\n",
    "    for fila in range(9):\n",
    "        if matriz[fila][celda[COORD_X]] == numero:\n",
    "            return True\n",
    "    return False\n",
    "\n",
    "def repetido_en_cuadro(matriz, celda, numero):\n",
    "    cuadro_inicio_x = (celda[COORD_X] // 3) * 3\n",
    "    cuadro_inicio_y = (celda[COORD_Y] // 3) * 3\n",
    "\n",
    "    for fila in range(3):\n",
    "        for columna in range(3):\n",
    "            if matriz[cuadro_inicio_y + fila][cuadro_inicio_x + columna] == numero:\n",
    "                return True\n",
    "    return False"
   ]
  }
 ],
 "metadata": {
  "language_info": {
   "name": "python"
  }
 },
 "nbformat": 4,
 "nbformat_minor": 2
}
