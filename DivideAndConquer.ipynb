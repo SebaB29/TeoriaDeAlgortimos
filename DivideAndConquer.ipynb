{
 "cells": [
  {
   "cell_type": "markdown",
   "metadata": {},
   "source": [
    "# Unos y Ceros"
   ]
  },
  {
   "cell_type": "markdown",
   "metadata": {},
   "source": [
    "Se tiene un arreglo tal que [1, 1, 1, …, 0, 0, …] (es decir, unos seguidos de ceros). Se pide una función de orden O(log(n)) que encuentre el índice del primer 0. Si no hay ningún 0 (solo hay unos), debe devolver -1.\n",
    "\n",
    "Nota sobre RPL: en este ejercicio se pide cumplir la tarea \"en O(log(n))\". Por las características de la herramienta, no podemos verificarlo de forma automática, pero se busca que se implemente con dicha restricción."
   ]
  },
  {
   "cell_type": "code",
   "execution_count": null,
   "metadata": {},
   "outputs": [],
   "source": [
    "def indice_primer_cero(arr):\n",
    "    izquierda = 0\n",
    "    derecha = len(arr) - 1\n",
    "    while izquierda <= derecha:\n",
    "        medio = (izquierda + derecha) // 2\n",
    "        if arr[medio] == 0 and (medio == 0 or arr[medio-1] == 1):\n",
    "            return medio\n",
    "        elif arr[medio] == 1:\n",
    "            izquierda = medio + 1\n",
    "        else:\n",
    "            derecha = medio - 1\n",
    "\n",
    "    return -1"
   ]
  },
  {
   "cell_type": "markdown",
   "metadata": {},
   "source": [
    "# Raíz Cuadrada"
   ]
  },
  {
   "cell_type": "markdown",
   "metadata": {},
   "source": [
    "Implementar un algoritmo que, por división y conquista, permita obtener la parte entera de la raíz cuadrada de un número n, en tiempo O(log n). Por ejemplo, para n = 10 debe devolver 3, y para n = 25 debe devolver 5. Justificar el orden del algoritmo.\n",
    "\n",
    "Aclaración: no se requiere el uso de ninguna librería de matemática que calcule la raíz cuadrada, ni de forma exacta ni aproximada.\n",
    "\n",
    "Nota sobre RPL: en este ejercicio se pide cumplir la tarea \"por división y conquista, en O(log(n))\". Por las características de la herramienta, no podemos verificarlo de forma automática, pero se busca que se implemente con dicha restricción"
   ]
  },
  {
   "cell_type": "code",
   "execution_count": null,
   "metadata": {},
   "outputs": [],
   "source": [
    "def parte_entera_raiz(n):\n",
    "    if n < 2:\n",
    "        return n\n",
    "    return _parte_entera(n, 0, n)\n",
    "\n",
    "def _parte_entera(n, izquierda, derecha):\n",
    "    if izquierda > derecha: # O(1)\n",
    "        return derecha # O(1)\n",
    "\n",
    "    medio = izquierda + (derecha - izquierda) // 2 # O(1)\n",
    "    cuadrado = medio * medio # O(1)\n",
    "\n",
    "    if cuadrado == n: # O(1)\n",
    "        return medio # O(1)\n",
    "    elif cuadrado < n: # O(1)\n",
    "        return _parte_entera(n, medio + 1, derecha) # Llamado Recursivo \n",
    "    else:\n",
    "        return _parte_entera(n, izquierda, medio - 1) # Llamado Recursivo"
   ]
  },
  {
   "cell_type": "markdown",
   "metadata": {},
   "source": [
    "## Orden del Algoritmo\n",
    "\n",
    "### Teorema Maestro: \n",
    "$$ T(n) = A \\cdot T\\left(\\frac{n}{B}\\right) + O(n^C) $$\n",
    "\n",
    "Distintos Casos:\n",
    "$$\n",
    "T(n) = \n",
    "\\begin{cases} \n",
    "O(n^C) & \\text{si } \\log_B(A) > C \\\\\n",
    "O(n^C \\log_B(n)) & \\text{si } \\log_B(A) = C \\\\\n",
    "O(n^{\\log_B(A)}) & \\text{si } \\log_B(A) < C \n",
    "\\end{cases}\n",
    "$$\n",
    "\n",
    "**Dado que:** \\( A = 1, B = 2, C = 0 \\)\n",
    "\n",
    "Entonces:\n",
    "\n",
    "$$ T(n) = T\\left(\\frac{n}{2}\\right) + O(1) $$\n",
    "\n",
    "### Conclusión:\n",
    "$$ \\log_B(A) = C = 0 \\Rightarrow T(n) = O(\\log(n)) $$\n"
   ]
  }
 ],
 "metadata": {
  "language_info": {
   "name": "python"
  }
 },
 "nbformat": 4,
 "nbformat_minor": 2
}
