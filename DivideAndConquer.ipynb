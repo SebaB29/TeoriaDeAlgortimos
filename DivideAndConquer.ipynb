{
 "cells": [
  {
   "cell_type": "markdown",
   "metadata": {},
   "source": [
    "# Unos y Ceros"
   ]
  },
  {
   "cell_type": "markdown",
   "metadata": {},
   "source": [
    "<p align=\"justify\">\n",
    "Se tiene un arreglo tal que [1, 1, 1, …, 0, 0, …] (es decir, unos seguidos de ceros). Se pide una función de orden O(log(n)) que encuentre el índice del primer 0. Si no hay ningún 0 (solo hay unos), debe devolver -1.\n",
    "\n",
    "Nota sobre RPL: en este ejercicio se pide cumplir la tarea \"en O(log(n))\". Por las características de la herramienta, no podemos verificarlo de forma automática, pero se busca que se implemente con dicha restricción.\n",
    "</p>"
   ]
  },
  {
   "cell_type": "code",
   "execution_count": null,
   "metadata": {},
   "outputs": [],
   "source": [
    "def indice_primer_cero(arr):\n",
    "    izquierda = 0\n",
    "    derecha = len(arr) - 1\n",
    "    while izquierda <= derecha:\n",
    "        medio = (izquierda + derecha) // 2\n",
    "        if arr[medio] == 0 and (medio == 0 or arr[medio-1] == 1):\n",
    "            return medio\n",
    "        elif arr[medio] == 1:\n",
    "            izquierda = medio + 1\n",
    "        else:\n",
    "            derecha = medio - 1\n",
    "\n",
    "    return -1"
   ]
  },
  {
   "cell_type": "markdown",
   "metadata": {},
   "source": [
    "# Raíz Cuadrada"
   ]
  },
  {
   "cell_type": "markdown",
   "metadata": {},
   "source": [
    "<p align=\"justify\">\n",
    "Implementar un algoritmo que, por división y conquista, permita obtener la parte entera de la raíz cuadrada de un número n, en tiempo O(log n). Por ejemplo, para n = 10 debe devolver 3, y para n = 25 debe devolver 5. Justificar el orden del algoritmo.\n",
    "\n",
    "Aclaración: no se requiere el uso de ninguna librería de matemática que calcule la raíz cuadrada, ni de forma exacta ni aproximada.\n",
    "\n",
    "Nota sobre RPL: en este ejercicio se pide cumplir la tarea \"por división y conquista, en O(log(n))\". Por las características de la herramienta, no podemos verificarlo de forma automática, pero se busca que se implemente con dicha restricción\n",
    "</p>"
   ]
  },
  {
   "cell_type": "code",
   "execution_count": null,
   "metadata": {},
   "outputs": [],
   "source": [
    "def parte_entera_raiz(n):\n",
    "    if n < 2:\n",
    "        return n\n",
    "    return _parte_entera(n, 0, n)\n",
    "\n",
    "def _parte_entera(n, izquierda, derecha):\n",
    "    if izquierda > derecha: # O(1)\n",
    "        return derecha # O(1)\n",
    "\n",
    "    medio = izquierda + (derecha - izquierda) // 2 # O(1)\n",
    "    cuadrado = medio * medio # O(1)\n",
    "\n",
    "    if cuadrado == n: # O(1)\n",
    "        return medio # O(1)\n",
    "    elif cuadrado < n: # O(1)\n",
    "        return _parte_entera(n, medio + 1, derecha) # Llamado Recursivo \n",
    "    else:\n",
    "        return _parte_entera(n, izquierda, medio - 1) # Llamado Recursivo"
   ]
  },
  {
   "cell_type": "markdown",
   "metadata": {},
   "source": [
    "## Orden del Algoritmo"
   ]
  },
  {
   "cell_type": "markdown",
   "metadata": {},
   "source": [
    "### Teorema Maestro: \n",
    "$$ T(n) = A \\cdot T\\left(\\frac{n}{B}\\right) + O(n^C) $$\n",
    "\n",
    "Distintos Casos:\n",
    "$$\n",
    "T(n) = \n",
    "\\begin{cases} \n",
    "O(n^C) & \\text{si } \\log_B(A) > C \\\\\n",
    "O(n^C \\log_B(n)) & \\text{si } \\log_B(A) = C \\\\\n",
    "O(n^{\\log_B(A)}) & \\text{si } \\log_B(A) < C \n",
    "\\end{cases}\n",
    "$$\n",
    "\n",
    "**Dado que:** (A = 1, B = 2, C = 0)\n",
    "\n",
    "Entonces:\n",
    "\n",
    "$$ T(n) = T\\left(\\frac{n}{2}\\right) + O(1) $$\n",
    "\n",
    "### Conclusión:\n",
    "$$ \\log_B(A) = C = 0 \\Rightarrow T(n) = O(\\log(n)) $$\n"
   ]
  },
  {
   "cell_type": "markdown",
   "metadata": {},
   "source": [
    "# Picos"
   ]
  },
  {
   "cell_type": "markdown",
   "metadata": {},
   "source": [
    "<p algin=\"justify\">\n",
    "Se tiene un arreglo de N >= 3 elementos en forma de pico, esto es: estrictamente creciente hasta una determinada posición p, y estrictamente decreciente a partir de ella (con 0 < p < N - 1). Por ejemplo, en el arreglo [1, 2, 3, 1, 0, -2] la posición del pico es p = 2. Se pide:\n",
    "\n",
    "Implementar un algoritmo de división y conquista de orden O(log n) que encuentre la posición p del pico: func PosicionPico(v []int, ini, fin int) int. La función será invocada inicialmente como: PosicionPico(v, 0, len(v)-1), y tiene como pre-condición que el arreglo tenga forma de pico.\n",
    "\n",
    "Justificar el orden del algoritmo mediante el teorema maestro.\n",
    "\n",
    "Nota sobre RPL: en este ejercicio se pide cumplir la tarea \"por división y conquista, en O(log(n))\". Por las características de la herramienta, no podemos verificarlo de forma automática, pero se busca que se implemente con dicha restricción.\n",
    "</p>"
   ]
  },
  {
   "cell_type": "code",
   "execution_count": null,
   "metadata": {},
   "outputs": [],
   "source": [
    "def posicion_pico(v, ini, fin):\n",
    "    if ini == fin: # O(1)\n",
    "        return ini\n",
    "    \n",
    "    medio = (ini + fin) // 2 # O(1)\n",
    "    if v[medio] > v[medio + 1]: # O(1)\n",
    "        return posicion_pico(v, ini, medio) # Llamado Recursivo\n",
    "    return posicion_pico(v, medio+1, fin) # Llamado Recursivo"
   ]
  },
  {
   "cell_type": "markdown",
   "metadata": {},
   "source": [
    "## Orden del Algoritmo"
   ]
  },
  {
   "cell_type": "markdown",
   "metadata": {},
   "source": [
    "### Teorema Maestro: \n",
    "$$ T(n) = A \\cdot T\\left(\\frac{n}{B}\\right) + O(n^C) $$\n",
    "\n",
    "Distintos Casos:\n",
    "$$\n",
    "T(n) = \n",
    "\\begin{cases} \n",
    "O(n^C) & \\text{si } \\log_B(A) > C \\\\\n",
    "O(n^C \\log_B(n)) & \\text{si } \\log_B(A) = C \\\\\n",
    "O(n^{\\log_B(A)}) & \\text{si } \\log_B(A) < C \n",
    "\\end{cases}\n",
    "$$\n",
    "\n",
    "**Dado que:** (A = 1, B = 2, C = 0)\n",
    "\n",
    "Entonces:\n",
    "\n",
    "$$ T(n) = T\\left(\\frac{n}{2}\\right) + O(1) $$\n",
    "\n",
    "### Conclusión:\n",
    "$$ \\log_B(A) = C = 0 \\Rightarrow T(n) = O(\\log(n)) $$\n"
   ]
  },
  {
   "cell_type": "markdown",
   "metadata": {},
   "source": [
    "# MergeSort"
   ]
  },
  {
   "cell_type": "markdown",
   "metadata": {},
   "source": [
    "<p align=\"justify\">\n",
    "Implementar Merge Sort. Justificar el orden del algoritmo mediante el teorema maestro.\n",
    "\n",
    "Nota sobre RPL: en este ejercicio se pide cumplir la tarea de ordenamiento \"por Merge Sort\". Por las características de la herramienta, no podemos verificarlo de forma automática, pero se busca que se implemente con dicha restricción.\n",
    "</p>"
   ]
  },
  {
   "cell_type": "code",
   "execution_count": null,
   "metadata": {},
   "outputs": [],
   "source": [
    "def merge_sort(arr):\n",
    "    if not(len(arr)):\n",
    "        return []\n",
    "    return _merge_sort(arr, 0, len(arr)-1)\n",
    "\n",
    "def _merge_sort(arreglo, inicio, fin):\n",
    "    if inicio >= fin: # O(1)\n",
    "        return [arreglo[inicio]] # O(1)\n",
    "    \n",
    "    medio = (inicio + fin) // 2 # O(1)\n",
    "    izquierda = _merge_sort(arreglo, inicio, medio) # Llamado Recursivo\n",
    "    derecha = _merge_sort(arreglo, medio+1, fin) # Llamado Recursivo\n",
    "\n",
    "    return merge(izquierda, derecha) # O(n)\n",
    "\n",
    "def merge(izquierda, derecha):\n",
    "    resultado = [] # O(1)\n",
    "    i = 0 # O(1)\n",
    "    j = 0 # O(1)\n",
    "    while i < len(izquierda) and j < len(derecha): # O(n) -> n = len(izquierda) + len(derecha)\n",
    "        if izquierda[i] < derecha[j]: # O(1)\n",
    "            resultado.append(izquierda[i]) # O(1)\n",
    "            i += 1 # O(1)\n",
    "        else:\n",
    "            resultado.append(derecha[j]) # O(1)\n",
    "            j += 1 # O(1)\n",
    "\n",
    "    resultado.extend(izquierda[i:]) # O(k) -> k = len(izquierda[i:])\n",
    "    resultado.extend(derecha[j:]) # O(m) -> m = len(derecha[j:])\n",
    "    \n",
    "    return resultado"
   ]
  },
  {
   "cell_type": "markdown",
   "metadata": {},
   "source": [
    "## Orden del Algoritmo"
   ]
  },
  {
   "cell_type": "markdown",
   "metadata": {},
   "source": [
    "$$merge(izquierda, derecha): (n > k) \\text{ y } (n > m) \\Rightarrow O(n)$$\n",
    "\n",
    "### Teorema Maestro: \n",
    "$$ T(n) = A \\cdot T\\left(\\frac{n}{B}\\right) + O(n^C) $$\n",
    "\n",
    "Distintos Casos:\n",
    "$$\n",
    "T(n) = \n",
    "\\begin{cases} \n",
    "O(n^C) & \\text{si } \\log_B(A) > C \\\\\n",
    "O(n^C \\log_B(n)) & \\text{si } \\log_B(A) = C \\\\\n",
    "O(n^{\\log_B(A)}) & \\text{si } \\log_B(A) < C \n",
    "\\end{cases}\n",
    "$$\n",
    "\n",
    "**Dado que:** (A = 2, B = 2, C = 1)\n",
    "\n",
    "Entonces:\n",
    "\n",
    "$$ T(n) = 2T\\left(\\frac{n}{2}\\right) + O(n) $$\n",
    "\n",
    "### Conclusión:\n",
    "$$ \\log_B(A) = C = 1 \\Rightarrow T(n) = O(n\\log(n)) $$\n"
   ]
  }
 ],
 "metadata": {
  "language_info": {
   "name": "python"
  }
 },
 "nbformat": 4,
 "nbformat_minor": 2
}
